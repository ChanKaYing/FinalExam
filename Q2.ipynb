{
 "cells": [
  {
   "cell_type": "code",
   "execution_count": 20,
   "id": "f4350666-a374-420a-b902-92a44c007275",
   "metadata": {},
   "outputs": [
    {
     "name": "stdout",
     "output_type": "stream",
     "text": [
      "Strong Password:  5cU$uh(V2K\n"
     ]
    }
   ],
   "source": [
    "import random\n",
    " \n",
    "# store all characters in lists \n",
    "s1 = list(string.ascii_lowercase)\n",
    "s2 = list(string.ascii_uppercase)\n",
    "s3 = list(string.digits)\n",
    "s4 = list(string.punctuation)\n",
    "\n",
    "characters_number = 9\n",
    " \n",
    "\n",
    "# shuffle all lists\n",
    "random.shuffle(s1)\n",
    "random.shuffle(s2)\n",
    "random.shuffle(s3)\n",
    "random.shuffle(s4)\n",
    " \n",
    " \n",
    "# calculate 30% & 20% of number of characters\n",
    "part1 = round(characters_number * (30/100))\n",
    "part2 = round(characters_number * (20/100))\n",
    " \n",
    " \n",
    "# generation of the password (60% letters and 40% digits & punctuations)\n",
    "result = []\n",
    " \n",
    "for x in range(part1):\n",
    " \n",
    "    result.append(s1[x])\n",
    "    result.append(s2[x])\n",
    " \n",
    "for x in range(part2):\n",
    " \n",
    "    result.append(s3[x])\n",
    "    result.append(s4[x])\n",
    " \n",
    " \n",
    "# shuffle result\n",
    "random.shuffle(result)\n",
    " \n",
    " \n",
    "# join result\n",
    "password = \"\".join(result)\n",
    "print(\"Strong Password: \", password)"
   ]
  },
  {
   "cell_type": "code",
   "execution_count": null,
   "id": "a2dea114-7720-430c-a194-903690e288fd",
   "metadata": {},
   "outputs": [
    {
     "name": "stdin",
     "output_type": "stream",
     "text": [
      "Enter a password:  qwrerw2\n"
     ]
    },
    {
     "name": "stdout",
     "output_type": "stream",
     "text": [
      "Make sure your password is at lest 8 letters\n"
     ]
    },
    {
     "name": "stdin",
     "output_type": "stream",
     "text": [
      "Enter a password:  jghffdfswesefc4\n"
     ]
    },
    {
     "name": "stdout",
     "output_type": "stream",
     "text": [
      "Make sure your password has a number in it\n"
     ]
    }
   ],
   "source": [
    "def validate():\n",
    "    while True:\n",
    "        password = input(\"Enter a password: \")\n",
    "        if len(password) < 8:\n",
    "            print(\"Make sure your password is at lest 8 letters\")\n",
    "        elif not password.isdigit():\n",
    "            print(\"Make sure your password has a number in it\")\n",
    "        elif not password.isupper(): \n",
    "            print(\"Make sure your password has a capital letter in it\")\n",
    "        else:\n",
    "            print(\"Your password seems fine\")\n",
    "            break\n",
    "\n",
    "validate()"
   ]
  },
  {
   "cell_type": "code",
   "execution_count": null,
   "id": "64b138ef-dfac-4632-bebd-7f01fe06a2c0",
   "metadata": {},
   "outputs": [],
   "source": []
  }
 ],
 "metadata": {
  "kernelspec": {
   "display_name": "Python 3 (ipykernel)",
   "language": "python",
   "name": "python3"
  },
  "language_info": {
   "codemirror_mode": {
    "name": "ipython",
    "version": 3
   },
   "file_extension": ".py",
   "mimetype": "text/x-python",
   "name": "python",
   "nbconvert_exporter": "python",
   "pygments_lexer": "ipython3",
   "version": "3.10.9"
  }
 },
 "nbformat": 4,
 "nbformat_minor": 5
}
