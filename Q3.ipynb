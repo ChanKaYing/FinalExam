{
 "cells": [
  {
   "cell_type": "code",
   "execution_count": 19,
   "id": "823b5042-c412-4f4b-b85c-a41cb60b4839",
   "metadata": {},
   "outputs": [
    {
     "data": {
      "text/html": [
       "<div>\n",
       "<style scoped>\n",
       "    .dataframe tbody tr th:only-of-type {\n",
       "        vertical-align: middle;\n",
       "    }\n",
       "\n",
       "    .dataframe tbody tr th {\n",
       "        vertical-align: top;\n",
       "    }\n",
       "\n",
       "    .dataframe thead th {\n",
       "        text-align: right;\n",
       "    }\n",
       "</style>\n",
       "<table border=\"1\" class=\"dataframe\">\n",
       "  <thead>\n",
       "    <tr style=\"text-align: right;\">\n",
       "      <th></th>\n",
       "      <th>Film</th>\n",
       "      <th>Genre</th>\n",
       "      <th>Lead Studio</th>\n",
       "      <th>Audience score %</th>\n",
       "      <th>Profitability</th>\n",
       "      <th>Rotten Tomatoes %</th>\n",
       "      <th>Worldwide Gross</th>\n",
       "      <th>Year</th>\n",
       "    </tr>\n",
       "  </thead>\n",
       "  <tbody>\n",
       "    <tr>\n",
       "      <th>0</th>\n",
       "      <td>Zack and Miri Make a Porno</td>\n",
       "      <td>Romance</td>\n",
       "      <td>The Weinstein Company</td>\n",
       "      <td>70</td>\n",
       "      <td>1.747542</td>\n",
       "      <td>64</td>\n",
       "      <td>$41.94</td>\n",
       "      <td>2008</td>\n",
       "    </tr>\n",
       "    <tr>\n",
       "      <th>1</th>\n",
       "      <td>Youth in Revolt</td>\n",
       "      <td>Comedy</td>\n",
       "      <td>The Weinstein Company</td>\n",
       "      <td>52</td>\n",
       "      <td>1.090000</td>\n",
       "      <td>68</td>\n",
       "      <td>$19.62</td>\n",
       "      <td>2010</td>\n",
       "    </tr>\n",
       "    <tr>\n",
       "      <th>2</th>\n",
       "      <td>You Will Meet a Tall Dark Stranger</td>\n",
       "      <td>Comedy</td>\n",
       "      <td>Independent</td>\n",
       "      <td>35</td>\n",
       "      <td>1.211818</td>\n",
       "      <td>43</td>\n",
       "      <td>$26.66</td>\n",
       "      <td>2010</td>\n",
       "    </tr>\n",
       "    <tr>\n",
       "      <th>3</th>\n",
       "      <td>When in Rome</td>\n",
       "      <td>Comedy</td>\n",
       "      <td>Disney</td>\n",
       "      <td>44</td>\n",
       "      <td>0.000000</td>\n",
       "      <td>15</td>\n",
       "      <td>$43.04</td>\n",
       "      <td>2010</td>\n",
       "    </tr>\n",
       "    <tr>\n",
       "      <th>4</th>\n",
       "      <td>What Happens in Vegas</td>\n",
       "      <td>Comedy</td>\n",
       "      <td>Fox</td>\n",
       "      <td>72</td>\n",
       "      <td>6.267647</td>\n",
       "      <td>28</td>\n",
       "      <td>$219.37</td>\n",
       "      <td>2008</td>\n",
       "    </tr>\n",
       "  </tbody>\n",
       "</table>\n",
       "</div>"
      ],
      "text/plain": [
       "                                 Film    Genre            Lead Studio  \\\n",
       "0          Zack and Miri Make a Porno  Romance  The Weinstein Company   \n",
       "1                     Youth in Revolt   Comedy  The Weinstein Company   \n",
       "2  You Will Meet a Tall Dark Stranger   Comedy            Independent   \n",
       "3                        When in Rome   Comedy                 Disney   \n",
       "4               What Happens in Vegas   Comedy                    Fox   \n",
       "\n",
       "   Audience score %  Profitability  Rotten Tomatoes % Worldwide Gross  Year  \n",
       "0                70       1.747542                 64         $41.94   2008  \n",
       "1                52       1.090000                 68         $19.62   2010  \n",
       "2                35       1.211818                 43         $26.66   2010  \n",
       "3                44       0.000000                 15         $43.04   2010  \n",
       "4                72       6.267647                 28        $219.37   2008  "
      ]
     },
     "execution_count": 19,
     "metadata": {},
     "output_type": "execute_result"
    }
   ],
   "source": [
    "import pandas as pd\n",
    "import matplotlib.pyplot as plt\n",
    "import seaborn as sns\n",
    "import csv\n",
    "\n",
    "file_path = 'movies.csv'  # Update this path to your file location\n",
    "df = pd.read_csv(file_path)\n",
    "\n",
    "df.head()\n"
   ]
  },
  {
   "cell_type": "code",
   "execution_count": 47,
   "id": "baf7b04b-5778-4dd3-b1f6-33e41a289ed9",
   "metadata": {},
   "outputs": [
    {
     "name": "stdout",
     "output_type": "stream",
     "text": [
      "{'Film': 'Genre', 'Zack and Miri Make a Porno': 'Romance', 'Youth in Revolt': 'Comedy', 'You Will Meet a Tall Dark Stranger': 'Comedy', 'When in Rome': 'Comedy', 'What Happens in Vegas': 'Comedy', 'Water For Elephants': 'Drama', 'WALL-E': 'Animation', 'Waitress': 'Romance', 'Waiting For Forever': 'Romance', \"Valentine's Day\": 'Comedy', \"Tyler Perry's Why Did I get Married\": 'Romance', 'Twilight: Breaking Dawn': 'Romance', 'Twilight': 'Romance', 'The Ugly Truth': 'Comedy', 'The Twilight Saga: New Moon': 'Drama', \"The Time Traveler's Wife\": 'Drama', 'The Proposal': 'Comedy', 'The Invention of Lying': 'Comedy', 'The Heartbreak Kid': 'Comedy', 'The Duchess': 'Drama', 'The Curious Case of Benjamin Button': 'Fantasy', 'The Back-up Plan': 'Comedy', 'Tangled': 'Animation', 'Something Borrowed': 'Romance', \"She's Out of My League\": 'Comedy', 'Sex and the City Two': 'Comedy', 'Sex and the City 2': 'Comedy', 'Sex and the City': 'Comedy', 'Remember Me': 'Drama', 'Rachel Getting Married': 'Drama', 'Penelope': 'Comedy', 'P.S. I Love You': 'Romance', 'Over Her Dead Body': 'Comedy', 'Our Family Wedding': 'Comedy', 'One Day': 'Romance', 'Not Easily Broken': 'Drama', 'No Reservations': 'Comedy', \"Nick and Norah's Infinite Playlist\": 'Comedy', \"New Year's Eve\": 'Romance', 'My Week with Marilyn': 'Drama', 'Music and Lyrics': 'Romance', 'Monte Carlo': 'Romance', 'Miss Pettigrew Lives for a Day': 'Comedy', 'Midnight in Paris': 'Romence', 'Marley and Me': 'Comedy', 'Mamma Mia!': 'Comedy', 'Made of Honor': 'Comdy', 'Love Happens': 'Drama', 'Love & Other Drugs': 'Comedy', 'Life as We Know It': 'Comedy', 'License to Wed': 'Comedy', 'Letters to Juliet': 'Comedy', 'Leap Year': 'Comedy', 'Knocked Up': 'Comedy', 'Killers': 'Action', 'Just Wright': 'Comedy', 'Jane Eyre': 'Romance', \"It's Complicated\": 'Comedy', 'I Love You Phillip Morris': 'Comedy', 'High School Musical 3: Senior Year': 'Comedy', \"He's Just Not That Into You\": 'Comedy', 'Good Luck Chuck': 'Comedy', 'Going the Distance': 'Comedy', 'Gnomeo and Juliet': 'Animation', 'Ghosts of Girlfriends Past': 'Comedy', 'Four Christmases': 'Comedy', 'Fireproof': 'Drama', 'Enchanted': 'Comedy', 'Dear John': 'Drama', 'Beginners': 'Comedy', 'Across the Universe': 'romance', 'A Serious Man': 'Drama', 'A Dangerous Method': 'Drama', '27 Dresses': 'Comedy', '(500) Days of Summer': 'comedy'}\n"
     ]
    }
   ],
   "source": [
    "import csv\n",
    "\n",
    "dict_from_csv = {}\n",
    "\n",
    "with open(\"movies.csv\", mode=\"r\") as inp:\n",
    "    reader = csv.reader(inp)\n",
    "    dict_from_csv = {rows[0]: rows[1] for rows in reader}\n",
    "\n",
    "print(dict_from_csv)"
   ]
  },
  {
   "cell_type": "code",
   "execution_count": 57,
   "id": "6a25bfb2-88b5-45e2-a90f-ef953e9c9924",
   "metadata": {},
   "outputs": [
    {
     "name": "stdout",
     "output_type": "stream",
     "text": [
      "{'Film': 'Lead Studio', 'Zack and Miri Make a Porno': 'The Weinstein Company', 'Youth in Revolt': 'The Weinstein Company', 'You Will Meet a Tall Dark Stranger': 'Independent', 'When in Rome': 'Disney', 'What Happens in Vegas': 'Fox', 'Water For Elephants': '20th Century Fox', 'WALL-E': 'Disney', 'Waitress': 'Independent', 'Waiting For Forever': 'Independent', \"Valentine's Day\": 'Warner Bros.', \"Tyler Perry's Why Did I get Married\": 'Independent', 'Twilight: Breaking Dawn': 'Independent', 'Twilight': 'Summit', 'The Ugly Truth': 'Independent', 'The Twilight Saga: New Moon': 'Summit', \"The Time Traveler's Wife\": 'Paramount', 'The Proposal': 'Disney', 'The Invention of Lying': 'Warner Bros.', 'The Heartbreak Kid': 'Paramount', 'The Duchess': 'Paramount', 'The Curious Case of Benjamin Button': 'Warner Bros.', 'The Back-up Plan': 'CBS', 'Tangled': 'Disney', 'Something Borrowed': 'Independent', \"She's Out of My League\": 'Paramount', 'Sex and the City Two': 'Warner Bros.', 'Sex and the City 2': 'Warner Bros.', 'Sex and the City': 'Warner Bros.', 'Remember Me': 'Summit', 'Rachel Getting Married': 'Independent', 'Penelope': 'Summit', 'P.S. I Love You': 'Independent', 'Over Her Dead Body': 'New Line', 'Our Family Wedding': 'Independent', 'One Day': 'Independent', 'Not Easily Broken': 'Independent', 'No Reservations': 'Warner Bros.', \"Nick and Norah's Infinite Playlist\": 'Sony', \"New Year's Eve\": 'Warner Bros.', 'My Week with Marilyn': 'The Weinstein Company', 'Music and Lyrics': 'Warner Bros.', 'Monte Carlo': '20th Century Fox', 'Miss Pettigrew Lives for a Day': 'Independent', 'Midnight in Paris': 'Sony', 'Marley and Me': 'Fox', 'Mamma Mia!': 'Universal', 'Made of Honor': 'Sony', 'Love Happens': 'Universal', 'Love & Other Drugs': 'Fox', 'Life as We Know It': 'Independent', 'License to Wed': 'Warner Bros.', 'Letters to Juliet': 'Summit', 'Leap Year': 'Universal', 'Knocked Up': 'Universal', 'Killers': 'Lionsgate', 'Just Wright': 'Fox', 'Jane Eyre': 'Universal', \"It's Complicated\": 'Universal', 'I Love You Phillip Morris': 'Independent', 'High School Musical 3: Senior Year': 'Disney', \"He's Just Not That Into You\": 'Warner Bros.', 'Good Luck Chuck': 'Lionsgate', 'Going the Distance': 'Warner Bros.', 'Gnomeo and Juliet': 'Disney', 'Ghosts of Girlfriends Past': 'Warner Bros.', 'Four Christmases': 'Warner Bros.', 'Fireproof': 'Independent', 'Enchanted': 'Disney', 'Dear John': 'Sony', 'Beginners': 'Independent', 'Across the Universe': 'Independent', 'A Serious Man': 'Universal', 'A Dangerous Method': 'Independent', '27 Dresses': 'Fox', '(500) Days of Summer': 'Fox'}\n"
     ]
    }
   ],
   "source": [
    "with open(\"movies.csv\", mode=\"r\") as inp:\n",
    "    reader = csv.reader(inp)\n",
    "    dict_from_csv = {rows[0]: rows[2] for rows in reader}\n",
    "\n",
    "print(dict_from_csv)"
   ]
  },
  {
   "cell_type": "code",
   "execution_count": 59,
   "id": "946238b5-f846-4f09-aeb5-d5276f5da563",
   "metadata": {},
   "outputs": [
    {
     "ename": "FileNotFoundError",
     "evalue": "[Errno 2] No such file or directory: 'GenreCount.csv'",
     "output_type": "error",
     "traceback": [
      "\u001b[1;31m---------------------------------------------------------------------------\u001b[0m",
      "\u001b[1;31mFileNotFoundError\u001b[0m                         Traceback (most recent call last)",
      "Cell \u001b[1;32mIn[59], line 7\u001b[0m\n\u001b[0;32m      4\u001b[0m sales_dict \u001b[38;5;241m=\u001b[39m {}\n\u001b[0;32m      6\u001b[0m \u001b[38;5;66;03m# Open and read the CSV file\u001b[39;00m\n\u001b[1;32m----> 7\u001b[0m \u001b[38;5;28;01mwith\u001b[39;00m \u001b[38;5;28;43mopen\u001b[39;49m\u001b[43m(\u001b[49m\u001b[38;5;124;43m'\u001b[39;49m\u001b[38;5;124;43mGenreCount.csv\u001b[39;49m\u001b[38;5;124;43m'\u001b[39;49m\u001b[43m,\u001b[49m\u001b[43m \u001b[49m\u001b[43mmode\u001b[49m\u001b[38;5;241;43m=\u001b[39;49m\u001b[38;5;124;43m'\u001b[39;49m\u001b[38;5;124;43mr\u001b[39;49m\u001b[38;5;124;43m'\u001b[39;49m\u001b[43m)\u001b[49m \u001b[38;5;28;01mas\u001b[39;00m file:\n\u001b[0;32m      8\u001b[0m     reader \u001b[38;5;241m=\u001b[39m csv\u001b[38;5;241m.\u001b[39mDictReader(file)\n\u001b[0;32m     10\u001b[0m     \u001b[38;5;28;01mfor\u001b[39;00m row \u001b[38;5;129;01min\u001b[39;00m reader:\n",
      "File \u001b[1;32m~\\anaconda3\\lib\\site-packages\\IPython\\core\\interactiveshell.py:282\u001b[0m, in \u001b[0;36m_modified_open\u001b[1;34m(file, *args, **kwargs)\u001b[0m\n\u001b[0;32m    275\u001b[0m \u001b[38;5;28;01mif\u001b[39;00m file \u001b[38;5;129;01min\u001b[39;00m {\u001b[38;5;241m0\u001b[39m, \u001b[38;5;241m1\u001b[39m, \u001b[38;5;241m2\u001b[39m}:\n\u001b[0;32m    276\u001b[0m     \u001b[38;5;28;01mraise\u001b[39;00m \u001b[38;5;167;01mValueError\u001b[39;00m(\n\u001b[0;32m    277\u001b[0m         \u001b[38;5;124mf\u001b[39m\u001b[38;5;124m\"\u001b[39m\u001b[38;5;124mIPython won\u001b[39m\u001b[38;5;124m'\u001b[39m\u001b[38;5;124mt let you open fd=\u001b[39m\u001b[38;5;132;01m{\u001b[39;00mfile\u001b[38;5;132;01m}\u001b[39;00m\u001b[38;5;124m by default \u001b[39m\u001b[38;5;124m\"\u001b[39m\n\u001b[0;32m    278\u001b[0m         \u001b[38;5;124m\"\u001b[39m\u001b[38;5;124mas it is likely to crash IPython. If you know what you are doing, \u001b[39m\u001b[38;5;124m\"\u001b[39m\n\u001b[0;32m    279\u001b[0m         \u001b[38;5;124m\"\u001b[39m\u001b[38;5;124myou can use builtins\u001b[39m\u001b[38;5;124m'\u001b[39m\u001b[38;5;124m open.\u001b[39m\u001b[38;5;124m\"\u001b[39m\n\u001b[0;32m    280\u001b[0m     )\n\u001b[1;32m--> 282\u001b[0m \u001b[38;5;28;01mreturn\u001b[39;00m io_open(file, \u001b[38;5;241m*\u001b[39margs, \u001b[38;5;241m*\u001b[39m\u001b[38;5;241m*\u001b[39mkwargs)\n",
      "\u001b[1;31mFileNotFoundError\u001b[0m: [Errno 2] No such file or directory: 'GenreCount.csv'"
     ]
    }
   ],
   "source": [
    "import csv\n",
    " \n",
    "# Initialize an empty dictionary to store the total sales per product\n",
    "sales_dict = {}\n",
    " \n",
    "# Open and read the CSV file\n",
    "with open('GenreCount.csv', mode='r') as file:\n",
    "    reader = csv.DictReader(file)\n",
    "    \n",
    "    for row in reader:\n",
    "        key = row['Keys']\n",
    "        values = int(row['Values'])\n",
    "        \n",
    "# Print the result\n",
    "print(\"Total Sales by Product:\", sales_dict)\n",
    "\n",
    "\n",
    "\n",
    "\n",
    "with open('AudienceScore.csv', mode='r') as file:\n",
    "    reader = csv.DictReader(file)\n",
    "    \n",
    "    for row in reader:\n",
    "        key = row['Keys']\n",
    "        values = int(row['Values'])\n",
    "       \n",
    " \n",
    "# Print the result\n",
    "print(\"AudienceScore:\", sales_dict)"
   ]
  },
  {
   "cell_type": "code",
   "execution_count": null,
   "id": "8403d415-27b0-4bd0-8baf-5f2381eec42b",
   "metadata": {},
   "outputs": [],
   "source": []
  }
 ],
 "metadata": {
  "kernelspec": {
   "display_name": "Python 3 (ipykernel)",
   "language": "python",
   "name": "python3"
  },
  "language_info": {
   "codemirror_mode": {
    "name": "ipython",
    "version": 3
   },
   "file_extension": ".py",
   "mimetype": "text/x-python",
   "name": "python",
   "nbconvert_exporter": "python",
   "pygments_lexer": "ipython3",
   "version": "3.10.9"
  }
 },
 "nbformat": 4,
 "nbformat_minor": 5
}
